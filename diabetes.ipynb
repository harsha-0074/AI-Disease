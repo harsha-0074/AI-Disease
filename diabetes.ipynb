# %%
import numpy as np
import pandas as pd
from sklearn.model_selection import train_test_split
from sklearn import svm
from sklearn.metrics import accuracy_score

# %%
diabetes_dataset = pd.read_csv('C:/Users/siddu/OneDrive/Desktop/Aicte/diabetes.csv')


# %%
diabetes_dataset.head()

# %%
diabetes_dataset['Outcome'].value_counts()

# %%
X = diabetes_dataset.drop(columns=['Outcome'],axis=1)
y = diabetes_dataset['Outcome']

# %%
X.head()

# %%
X_train ,X_test , Y_train,Y_test= train_test_split(X,y,test_size=0.2,random_state=42)

# %%
model=svm.SVC(kernel='linear')

# %%
model.fit(X_train,Y_train)

# %%
y_pred=model.predict(X_test)

# %%
print(accuracy_score(Y_test,y_pred))

# %%
pip install pickle

# %%
import pickle
filename='diabetes_model.sav'
pickle.dump(model,open(filename,'wb'))


