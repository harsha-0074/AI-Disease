# %%
import numpy as np
import pandas as pd
from sklearn.model_selection import train_test_split
from sklearn.preprocessing import StandardScaler
from sklearn import svm
from sklearn.metrics import accuracy_score


# %%
heart_disease= pd.read_csv('C:/Users/pooji/Downloads/heart.csv')
print(heart_disease)

# %%
heart_disease.shape

# %%
heart_disease.head

# %%
heart_disease.info()

# %%
heart_disease.isnull().sum()

# %%
heart_disease.describe()

# %%
heart_disease['target'].value_counts()

# %%
X=heart_disease.drop(columns='target',axis=1)
Y=heart_disease['target']

# %%
print(Y)

# %%
print(X)

# %%
X_train,X_test,Y_train,Y_test=train_test_split(X,Y, test_size=0.2, stratify=Y,random_state=20)

# %%
print(X.shape,X_train.shape,X_test.shape)

# %%
from sklearn.linear_model import LogisticRegression

# %%
model=LogisticRegression()

# %%
model.fit(X_train,Y_train)

# %%
X_train_predection=model.predict(X_train)
training_data_accuracy = accuracy_score(X_train_predection,Y_train)

# %%
print("Accuracy of the training data : ",training_data_accuracy)

# %%
X_test_predection=model.predict(X_test)
test_data_accuracy = accuracy_score(X_test_predection,Y_test)

# %%
print("Accuracy of the test data : ",test_data_accuracy)

# %%
input_data=(63,1,0,130,330,1,0,132,1,1.8,2,3,3)
input_data_as_numpy_array = np.asarray(input_data)
input_data_reshaped = input_data_as_numpy_array.reshape(1,-1)
predection = model.predict(input_data_reshaped)
print(predection)
if (predection[0]==0):
    print("no disease")
else:
    print("disease")

# %%



